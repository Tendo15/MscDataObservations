{
  "nbformat": 4,
  "nbformat_minor": 0,
  "metadata": {
    "colab": {
      "private_outputs": true,
      "provenance": [],
      "mount_file_id": "15YoGu79mqQxe0lD3d7RxbPFHQ8m85-qB",
      "authorship_tag": "ABX9TyNdLtka9+77yx753KE2B/3M",
      "include_colab_link": true
    },
    "kernelspec": {
      "name": "python3",
      "display_name": "Python 3"
    },
    "language_info": {
      "name": "python"
    }
  },
  "cells": [
    {
      "cell_type": "markdown",
      "metadata": {
        "id": "view-in-github",
        "colab_type": "text"
      },
      "source": [
        "<a href=\"https://colab.research.google.com/github/Tendo15/MscDataObservations/blob/Heathrow/Heathrowdata24.ipynb\" target=\"_parent\"><img src=\"https://colab.research.google.com/assets/colab-badge.svg\" alt=\"Open In Colab\"/></a>"
      ]
    },
    {
      "cell_type": "code",
      "execution_count": null,
      "metadata": {
        "id": "XBCTA9arcGJG"
      },
      "outputs": [],
      "source": [
        "import numpy as np\n",
        "import pandas as pd\n",
        "\n",
        "import matplotlib.pyplot as plt\n",
        "import seaborn as sns\n",
        "import warnings\n",
        "warnings.simplefilter(action='ignore', category=FutureWarning)"
      ]
    },
    {
      "cell_type": "code",
      "source": [
        "weather_data = pd.read_csv('/content/drive/MyDrive/ColabNotebooks2024/Disso24/heathrowdata March21.csv')\n",
        "\n",
        "print(weather_data.shape)\n",
        "\n"
      ],
      "metadata": {
        "id": "BVip4ATfcuic"
      },
      "execution_count": null,
      "outputs": []
    },
    {
      "cell_type": "code",
      "source": [
        "heathrow_df=weather_data[[\"yyyy\",\"af\"]]\n",
        "heathrow_df.head(10)"
      ],
      "metadata": {
        "id": "9NWFGHj9edwY"
      },
      "execution_count": null,
      "outputs": []
    },
    {
      "source": [
        "# @title yyyy\n",
        "\n",
        "from matplotlib import pyplot as plt\n",
        "heathrow_df['yyyy'].plot(kind='line', figsize=(8, 4), title='yyyy')\n",
        "plt.gca().spines[['top', 'right']].set_visible(False)"
      ],
      "cell_type": "code",
      "execution_count": null,
      "outputs": [],
      "metadata": {
        "cellView": "form",
        "id": "ktwoYKUNhrmU"
      }
    },
    {
      "cell_type": "code",
      "source": [],
      "metadata": {
        "id": "qZSq_Hon6D6N"
      },
      "execution_count": null,
      "outputs": []
    },
    {
      "cell_type": "code",
      "source": [
        "heathrow_df.duplicated().sum()"
      ],
      "metadata": {
        "id": "4XNsPMayitEg"
      },
      "execution_count": null,
      "outputs": []
    },
    {
      "cell_type": "code",
      "source": [
        "print('Total number of missing values =', heathrow_df.isna().sum().sum())\n",
        "print(\"\"\"\"\"\")\n",
        "vars_with_missing = []\n",
        "for feature in heathrow_df.columns:\n",
        "    missings = heathrow_df[feature].isna().sum()\n",
        "\n",
        "    if missings > 0 :\n",
        "        vars_with_missing.append(feature)\n",
        "        missings_perc = missings / heathrow_df.shape[0]\n",
        "        print('Feature {} has {} records ({:.2%}) with missing values.'.format(feature, missings, missings_perc))\n",
        "print('In total, there are {} features with missing values'.format(len(vars_with_missing)))"
      ],
      "metadata": {
        "id": "02hcMmCGjaXg"
      },
      "execution_count": null,
      "outputs": []
    },
    {
      "cell_type": "markdown",
      "source": [
        "Imputation of missing values using the mean of the feature \"yyyy\""
      ],
      "metadata": {
        "id": "d7GPEWh7lgSK"
      }
    },
    {
      "cell_type": "code",
      "source": [
        "import pandas as pd\n",
        "\n",
        "# Calculate the mean of the feature\n",
        "mean_value = heathrow_df['yyyy'].mean()\n",
        "\n",
        "# Impute missing values with the mean using '.fillna'\n",
        "heathrow_df.loc[heathrow_df['yyyy'].isnull(), 'yyyy'] = mean_value"
      ],
      "metadata": {
        "id": "Y9KZTejzlr3f"
      },
      "execution_count": null,
      "outputs": []
    },
    {
      "cell_type": "markdown",
      "source": [
        "Checking if there is any missing values in this new dataset after imputation using the .loc"
      ],
      "metadata": {
        "id": "WdtoQMf-m2BW"
      }
    },
    {
      "cell_type": "code",
      "source": [
        "print('Total number of missing values =', heathrow_df.isna().sum().sum())\n",
        "print(\"\"\"\"\"\")\n",
        "vars_with_missing = []\n",
        "for feature in heathrow_df.columns:\n",
        "    missings = heathrow_df[feature].isna().sum()\n",
        "\n",
        "    if missings > 0 :\n",
        "        vars_with_missing.append(feature)\n",
        "        missings_perc = missings / heathrow_df.shape[0]\n",
        "        print('Feature {} has {} records ({:.2%}) with missing values.'.format(feature, missings, missings_perc))\n",
        "print('In total, there are {} features with missing values'.format(len(vars_with_missing)))"
      ],
      "metadata": {
        "id": "qUM2TdIOnBAl"
      },
      "execution_count": null,
      "outputs": []
    },
    {
      "cell_type": "markdown",
      "source": [
        "# A TIME SERIES PLOT"
      ],
      "metadata": {
        "id": "J72ndcQ85SLT"
      }
    },
    {
      "cell_type": "code",
      "source": [
        "#Plot the air frost day count\n",
        "\n",
        "import matplotlib.pyplot as plt\n",
        "\n",
        "plt.figure(figsize=(16,10), dpi=100)\n",
        "plt.plot(heathrow_df.index, heathrow_df.af, color='tab:red')\n",
        "plt.gca().set(title=\"The count of air frost days in Heathrow airport in a given year from 1950 to 2021\", xlabel='Date', ylabel='Air frost days Count')\n",
        "plt.show()"
      ],
      "metadata": {
        "id": "bxRw-BJS5RWa"
      },
      "execution_count": null,
      "outputs": []
    },
    {
      "cell_type": "markdown",
      "source": [
        "# DROPPING OF YEARS"
      ],
      "metadata": {
        "id": "5z1E-6D9jy2u"
      }
    },
    {
      "cell_type": "markdown",
      "source": [
        "Using the past air frost days count may not be the best idea for predictng todays weather data, as there have been other recent factors that should be taken into consideration for example the gradual rise of global warming.\n",
        "\n",
        "Therefore, we're taking records from 2016 to 2021"
      ],
      "metadata": {
        "id": "w-ziWF_QiGso"
      }
    },
    {
      "cell_type": "code",
      "source": [
        "heathrow_df.describe()"
      ],
      "metadata": {
        "id": "iD-Tun9hhzZ2"
      },
      "execution_count": null,
      "outputs": []
    },
    {
      "cell_type": "code",
      "source": [
        "# Convert 'yyyy' column to string type\n",
        "heathrow_df['yyyy'] = heathrow_df['yyyy'].astype(str)\n",
        "\n",
        "# Select the subset data from 2016 to 2021\n",
        "mask = (heathrow_df['yyyy'] >= '2011') & (heathrow_df['yyyy'] <= '2021')\n",
        "heathrow_df = heathrow_df.loc[mask]\n",
        "\n",
        "# Reset the index\n",
        "heathrow_df.set_index('yyyy', inplace=True)\n",
        "\n",
        "# Inspect first 5 rows and last 5 rows of the data\n",
        "from IPython.display import display\n",
        "display(heathrow_df.head(5))\n",
        "display(heathrow_df.tail(5))"
      ],
      "metadata": {
        "id": "lTFSaE70zbRX"
      },
      "execution_count": null,
      "outputs": []
    },
    {
      "cell_type": "code",
      "source": [
        "heathrow_df.describe()"
      ],
      "metadata": {
        "id": "Ob6UopFn1ULu"
      },
      "execution_count": null,
      "outputs": []
    },
    {
      "cell_type": "code",
      "source": [
        "#Output the maximum and min air frost day count\n",
        "print(heathrow_df.loc[heathrow_df[\"af\"]==heathrow_df[\"af\"].max()])\n",
        "print(heathrow_df.loc[heathrow_df[\"af\"]==heathrow_df[\"af\"].min()])"
      ],
      "metadata": {
        "id": "gQvwJdx21X2e"
      },
      "execution_count": null,
      "outputs": []
    },
    {
      "cell_type": "markdown",
      "source": [
        "OBSERVATION:\n",
        "\n",
        "In 2019, hetahrow airpirt whitnessed s a total of 9 airfrost days in every month of the year. In contrast, airrost days did reduce by 2020 leading into 2021 by so ans so figued\n",
        "\n",
        "There was no significant difference between the median, mean being..... so and so blah blah"
      ],
      "metadata": {
        "id": "qhvcwcdZ2gih"
      }
    },
    {
      "cell_type": "markdown",
      "source": [
        "# TIME SERIES DATA PLOT"
      ],
      "metadata": {
        "id": "PtcYHIv-3QYt"
      }
    },
    {
      "cell_type": "code",
      "source": [
        "#Plot the air frost day count\n",
        "\n",
        "import matplotlib.pyplot as plt\n",
        "\n",
        "plt.figure(figsize=(16,10), dpi=100)\n",
        "plt.plot(heathrow_df.index, heathrow_df.af, color='tab:red')\n",
        "plt.gca().set(title=\"The count of air frost days in Heathrow airport in a given year from 2016 to 2021\", xlabel='Date', ylabel='Air frost days Count')\n",
        "plt.show()"
      ],
      "metadata": {
        "id": "1tkrlslx3Uzy"
      },
      "execution_count": null,
      "outputs": []
    },
    {
      "cell_type": "markdown",
      "source": [
        "TREND, SEASON AND DEPO"
      ],
      "metadata": {
        "id": "0e0PEGGi6AhB"
      }
    },
    {
      "cell_type": "code",
      "source": [
        "from statsmodels.tsa.seasonal import seasonal_decompose\n",
        "\n",
        "# Additive Decomposition with adjusted period\n",
        "result_add = seasonal_decompose(heathrow_df.af, model='additive', extrapolate_trend='freq', period=60)\n",
        "\n",
        "# Plot\n",
        "plt.rcParams.update({'figure.figsize':(10,10)})\n",
        "result_add.plot().suptitle('Additive Decomposition', fontsize=22)\n",
        "plt.show()\n",
        "\n"
      ],
      "metadata": {
        "id": "2X1oHLhN5_7x"
      },
      "execution_count": null,
      "outputs": []
    }
  ]
}